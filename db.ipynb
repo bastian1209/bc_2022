{
 "cells": [
  {
   "cell_type": "markdown",
   "metadata": {},
   "source": [
    "## Connect to MySQL DB"
   ]
  },
  {
   "cell_type": "code",
   "execution_count": 69,
   "metadata": {},
   "outputs": [],
   "source": [
    "pw = ''\n",
    "host = ''\n",
    "port = ''\n",
    "db = ''"
   ]
  },
  {
   "cell_type": "code",
   "execution_count": 1,
   "metadata": {},
   "outputs": [],
   "source": [
    "import mysql.connector\n",
    "import pandas as pd"
   ]
  },
  {
   "cell_type": "code",
   "execution_count": 2,
   "metadata": {},
   "outputs": [],
   "source": [
    "cnt = mysql.connector.connect(host=host, user='root', passwd=pw, database=db)"
   ]
  },
  {
   "cell_type": "code",
   "execution_count": 3,
   "metadata": {},
   "outputs": [],
   "source": [
    "cursor = cnt.cursor(buffered=True)"
   ]
  },
  {
   "cell_type": "code",
   "execution_count": 4,
   "metadata": {},
   "outputs": [],
   "source": [
    "# cursor.execute(\"SELECT * FROM telegram\")\n",
    "# result = cursor.fetchall()"
   ]
  },
  {
   "cell_type": "code",
   "execution_count": 7,
   "metadata": {},
   "outputs": [],
   "source": [
    "# query = \"DROP TABLE twitter\"\n",
    "# cursor.execute(query)"
   ]
  },
  {
   "cell_type": "code",
   "execution_count": 6,
   "metadata": {},
   "outputs": [],
   "source": [
    "query = \"\"\"CREATE TABLE twitter (\n",
    "    id BIGINT(20) NOT NULL AUTO_INCREMENT PRIMARY KEY,\n",
    "    created DATETIME NOT NULL,\n",
    "    replies INT,\n",
    "    retweets INT,\n",
    "    likes INT,\n",
    "    hashtag VARCHAR(255) NOT NULL)\"\"\"\n",
    "cursor.execute(query)"
   ]
  },
  {
   "cell_type": "markdown",
   "metadata": {},
   "source": [
    "## Add crawled data"
   ]
  },
  {
   "cell_type": "code",
   "execution_count": 70,
   "metadata": {},
   "outputs": [],
   "source": [
    "pw = ''\n",
    "host = ''\n",
    "port = ''\n",
    "db = ''"
   ]
  },
  {
   "cell_type": "code",
   "execution_count": 1,
   "metadata": {},
   "outputs": [],
   "source": [
    "from sqlalchemy import create_engine\n",
    "import pymysql\n",
    "import pandas as pd"
   ]
  },
  {
   "cell_type": "code",
   "execution_count": 57,
   "metadata": {},
   "outputs": [],
   "source": [
    "def redundancy_check(sqlEngine, loaded_df):\n",
    "    dbConnection = sqlEngine.connect()\n",
    "    fetched_df = pd.read_sql(\"select * from crawling.twitter\", dbConnection)\n",
    "    # cleaned_df = loaded_df.merge(fetched_df, indicator=True, how='outer').loc[lambda x : x['_merge'] == 'left_only'].iloc[:, :-1]\n",
    "    \n",
    "    cleaned_df = loaded_df[~loaded_df.id.isin(fetched_df.id)]\n",
    "    return cleaned_df\n",
    "    "
   ]
  },
  {
   "cell_type": "code",
   "execution_count": 64,
   "metadata": {},
   "outputs": [],
   "source": [
    "def update_db(tag='moonbirds', pw=None, host=None, port=None, db=None):\n",
    "    df = pd.read_csv('crawled_{}.csv'.format(tag))\n",
    "\n",
    "    table_name = 'twitter'\n",
    "    db_url = 'mysql+pymysql://root:{}@{}:{}/{}'.format(pw, host, port, db)\n",
    "    sqlEngine = create_engine(db_url, pool_recycle=3600)\n",
    "    df = redundancy_check(sqlEngine, df)\n",
    "\n",
    "    dbConnection = sqlEngine.connect()\n",
    "\n",
    "    try:\n",
    "        frame = df.to_sql(table_name, dbConnection, if_exists='append', chunksize=1000, index=False)\n",
    "    except ValueError as vx:\n",
    "        print(vx)\n",
    "    except Exception as ex:   \n",
    "        print(ex)\n",
    "    else:\n",
    "        print(\"Table %s created successfully.\" % table_name);   \n",
    "    finally:\n",
    "        dbConnection.close()"
   ]
  },
  {
   "cell_type": "code",
   "execution_count": 67,
   "metadata": {},
   "outputs": [
    {
     "name": "stdout",
     "output_type": "stream",
     "text": [
      "Table twitter created successfully.\n"
     ]
    }
   ],
   "source": [
    "update_db(tag='moonbirds', \n",
    "          pw=pw, \n",
    "          host=host, \n",
    "          port=port, \n",
    "          db=db)"
   ]
  },
  {
   "cell_type": "code",
   "execution_count": 68,
   "metadata": {},
   "outputs": [
    {
     "name": "stdout",
     "output_type": "stream",
     "text": [
      "Table twitter created successfully.\n"
     ]
    }
   ],
   "source": [
    "update_db(tag='bayc', \n",
    "          pw=pw, \n",
    "          host=host, \n",
    "          port=port, \n",
    "          db=db)"
   ]
  }
 ],
 "metadata": {
  "interpreter": {
   "hash": "5b61d9b514b5b6bbd4da54bbbfa134b0884304fd5b4278d7cefb9c3787c684f8"
  },
  "kernelspec": {
   "display_name": "Python 3.8.3 ('base')",
   "language": "python",
   "name": "python3"
  },
  "language_info": {
   "codemirror_mode": {
    "name": "ipython",
    "version": 3
   },
   "file_extension": ".py",
   "mimetype": "text/x-python",
   "name": "python",
   "nbconvert_exporter": "python",
   "pygments_lexer": "ipython3",
   "version": "3.8.3"
  },
  "orig_nbformat": 4
 },
 "nbformat": 4,
 "nbformat_minor": 2
}
